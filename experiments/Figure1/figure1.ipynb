{
 "cells": [
  {
   "attachments": {},
   "cell_type": "markdown",
   "metadata": {},
   "source": [
    "# Set-up"
   ]
  },
  {
   "attachments": {},
   "cell_type": "markdown",
   "metadata": {},
   "source": [
    "## Imports"
   ]
  },
  {
   "cell_type": "code",
   "execution_count": 211,
   "metadata": {},
   "outputs": [],
   "source": [
    "# Standard library\n",
    "import os\n",
    "import random\n",
    "import time\n",
    "import pickle\n",
    "\n",
    "# Scientific computation\n",
    "import numpy as np\n",
    "from scipy import stats\n",
    "from sklearn import metrics\n",
    "\n",
    "# Network science\n",
    "import networkx as nx\n",
    "from cdlib import algorithms\n",
    "from cdlib import evaluation\n",
    "\n",
    "# Data handling and visualization\n",
    "import matplotlib.pyplot as plt\n",
    "%matplotlib inline\n",
    "\n",
    "# Miscellaneous\n",
    "from tqdm import tqdm as tqdm  # Progress bars"
   ]
  },
  {
   "attachments": {},
   "cell_type": "markdown",
   "metadata": {},
   "source": [
    "## Defining functions"
   ]
  },
  {
   "cell_type": "code",
   "execution_count": 212,
   "metadata": {},
   "outputs": [],
   "source": [
    "def duplex_network (G, l1, l2, verbose=False):\n",
    "    \"\"\"Formats a duplex without inactive nodes or edge overlap.\n",
    "\n",
    "    Parameters\n",
    "    ----------\n",
    "    G : dict\n",
    "        Map from layer ids to corresponding graphs\n",
    "    l1 : int\n",
    "        Id of one of the layers in the resultant duplex\n",
    "    l2 : int\n",
    "        Id of the other layer in the resultant duplex\n",
    "    verbose : bool, optional\n",
    "        Indicator if verbose printing should be enabled, by default False\n",
    "\n",
    "    Returns\n",
    "    -------\n",
    "    tuple\n",
    "        Formatted layers of the resultant duplex\n",
    "    \"\"\"\n",
    "    # >>> Book-keeping >>>\n",
    "    # Create deepcopies of input networks\n",
    "    G1 = G[l1].copy()\n",
    "    G2 = G[l2].copy()\n",
    "    # <<< Book-keeping <<<\n",
    "\n",
    "    # >>> Duplex construction >>>\n",
    "    # Remove edges common to both layers\n",
    "    list_of_common_edges = []\n",
    "\n",
    "    ## Identify common edges\n",
    "    for edge in G[l1].edges():\n",
    "        if G[l2].has_edge(edge[0], edge[1]):  # order safe for undirected networks\n",
    "            list_of_common_edges.append([e[0], e[1]])\n",
    "\n",
    "    ## Delete common edges from _both_ layers\n",
    "    for e in list_of_common_edges:\n",
    "        G1.remove_edge(e[0], e[1])\n",
    "        G2.remove_edge(e[0], e[1])\n",
    "\n",
    "    if verbose:\n",
    "        print(f\"Number of common edges removed: {len(list_of_common_edges)}\")\n",
    "\n",
    "    # Remove nodes with zero degree\n",
    "    ## Identify nodes in one layer with no activity\n",
    "    list_of_nodes = []\n",
    "    for n in G1.nodes():\n",
    "        if G1.degree(n)==0:\n",
    "            list_of_nodes.append(n)\n",
    "\n",
    "    ## Remove inactive nodes from one layer\n",
    "    for n in list_of_nodes:\n",
    "        G1.remove_node(n)\n",
    "    if verbose:\n",
    "        print(f\"Number of inactive nodes removed from layer {l1}: {len(list_of_nodes)}\")\n",
    "\n",
    "    list_of_nodes = []\n",
    "    ## Identify nodes in other layer with no activity\n",
    "    for n in G2.nodes():\n",
    "        if G2.degree(n)==0:\n",
    "            list_of_nodes.append(n)\n",
    "    ## Remove inactive nodes from one layer\n",
    "    for n in list_of_nodes:\n",
    "        G2.remove_node(n)\n",
    "    if verbose:\n",
    "        print(f\"Number of inactive nodes removed from layer {l2}: {len(list_of_nodes)}\")\n",
    "\n",
    "    # Ensure node sets equivalent - Create union of nodes\n",
    "    ## Identify nodes in either layer\n",
    "    list_of_nodes = []\n",
    "    for n in G1.nodes():\n",
    "        list_of_nodes.append(n)\n",
    "    for n in G2.nodes():\n",
    "        list_of_nodes.append(n)\n",
    "    if verbose:\n",
    "        print(f\"Size of active node set union from layers {l1} and {l2}: {len(list_of_nodes)}\")\n",
    "    ## Add nodes to both layers\n",
    "    for n in list_of_nodes:\n",
    "        G1.add_node(n)\n",
    "        G2.add_node(n)\n",
    "    # <<< Duplex construction <<<\n",
    "\n",
    "    return G1, G2"
   ]
  },
  {
   "cell_type": "code",
   "execution_count": 213,
   "metadata": {},
   "outputs": [],
   "source": [
    "def classifier_fully_aware_degree (Etest, degree1, degree2):\n",
    "    \"\"\"Classifies each edge into one of two layers based on reconstruction likelihood model.\n",
    "\n",
    "    Parameters\n",
    "    ----------\n",
    "    Etest : dict\n",
    "        Mapping of edges in aggregate to be reconstructed to their ground truth originating layers\n",
    "    degree1 : dict\n",
    "        Mapping of node ids to deree in layer 1\n",
    "    degree2 : dict\n",
    "        Mapping of node ids to deree in layer 2\n",
    "\n",
    "    Returns\n",
    "    -------\n",
    "    tuple\n",
    "        Tuple of lists of the guessed originating layer, the likelihood of that guess, and the true originating layer for each edge in Etest\n",
    "    \"\"\"\n",
    "    # >>> Book-keeping >>>\n",
    "    classification = []  # reconstructed layers for edges\n",
    "    scores = []  # strength of reconstruction likelihood\n",
    "    ground_truth = []  # true originating layers\n",
    "    # <<< Book-keeping <<<\n",
    "\n",
    "    # >>> Reconstruction >>>\n",
    "    for edge in Etest:\n",
    "        # Unpack edge into its incident nodes\n",
    "        i = edge[0]\n",
    "        j = edge[1]\n",
    "\n",
    "        # Calculate product of degrees of incident nodes in each layer\n",
    "        degree_product_1 = degree1[i]*degree1[j]\n",
    "        degree_product_2 = degree2[i]*degree2[j]\n",
    "\n",
    "        # Calculate likelihood of edge to belong to each layer\n",
    "        score_1 = score_2 = 0.5\n",
    "        if degree_product_1 + degree_product_2 > 0.0:\n",
    "            score_1 = degree_product_1 / (degree_product_1 + degree_product_2)\n",
    "            score_2 = degree_product_2 / (degree_product_1 + degree_product_2)\n",
    "\n",
    "        # Determine which layer is predicted for this edge to have originated from\n",
    "        # Compares score likelihoods for layers\n",
    "        class_ = random.randint(0,1)\n",
    "        if score_1 > score_2:\n",
    "            class_ = 1\n",
    "        if score_2 > score_1:\n",
    "            class_ = 0\n",
    "\n",
    "        # Store calculations\n",
    "        scores.append(score_1)\n",
    "        classification.append(class_)\n",
    "        ground_truth.append(Etest[edge])\n",
    "    # <<< Reconstruction <<<\n",
    "\n",
    "    return classification, scores, ground_truth"
   ]
  },
  {
   "cell_type": "code",
   "execution_count": null,
   "metadata": {},
   "outputs": [],
   "source": [
    "def create_test_set_fully_aware_degree (G1, G2):\n",
    "    \"\"\"Create an experimental test set from a formatted duplex.\n",
    "\n",
    "    Parameters\n",
    "    ----------\n",
    "    G1 : nx.Graph\n",
    "        One layer of the formatted duplex\n",
    "    G2 : nx.Graph\n",
    "        Another layer of the formatted duplex\n",
    "\n",
    "    Returns\n",
    "    -------\n",
    "    tuple\n",
    "        Returns dictionaries mapping edge to originating layer and node ids to degrees in layer 1 and 2, respectively\n",
    "    \"\"\"\n",
    "    # >>> Book-keeping >>>\n",
    "    Etest = {}  # edge -> originating layer\n",
    "    degree1 = {}  # node -> degree in G1\n",
    "    degree2 = {}  # node -> degree in G2\n",
    "    # <<< Book-keeping\n",
    "\n",
    "    # >>> Test set construction >>>\n",
    "    # Label edges from G1 as from '1'\n",
    "    for e in G1.edges():\n",
    "        Etest[e] = 1\n",
    "\n",
    "    # Label edges from G2 as from '0'\n",
    "    for e in G2.edges():\n",
    "        Etest[e] = 0\n",
    "\n",
    "    # Track degrees of each node\n",
    "    # * NOTE: G1, G2 assumed to have been output of `duplex_network`\n",
    "    # * and have no inactive nodes and the same node sets\n",
    "    for n in G1:\n",
    "        degree1[n] = G1.degree(n)\n",
    "        degree2[n] = G2.degree(n)\n",
    "    # <<< Test set construction\n",
    "\n",
    "    return Etest, degree1, degree2"
   ]
  },
  {
   "cell_type": "code",
   "execution_count": null,
   "metadata": {},
   "outputs": [],
   "source": [
    "def generate_power_law (gamma, kmin, kmax):\n",
    "    \"\"\"Generate a degree from a powerlaw distribution with exponent value gamma and bounds kmin, kmax.\n",
    "    \"\"\"\n",
    "    xmin = np.power(kmin, 1.0 - gamma)\n",
    "    xmax = np.power(kmax, 1.0 - gamma)\n",
    "    x = xmax - random.random()*(xmax - xmin)\n",
    "    x = np.power(x, 1.0 / (1.0 -gamma))\n",
    "    return int(x)"
   ]
  },
  {
   "cell_type": "code",
   "execution_count": null,
   "metadata": {},
   "outputs": [],
   "source": [
    "def control_correlation (degree, prob):\n",
    "\n",
    "    # >>> Book-keeping >>>\n",
    "    tmp_degree = []  # degrees after shuffling to destroy correlations\n",
    "    # <<< Book-keeping <<<\n",
    "\n",
    "    # >>> Modifying correlation >>>\n",
    "    # Add each original degree sequence to list of degree sequences\n",
    "    for i in range(len(degree)):\n",
    "        tmp_degree.append(degree[i])\n",
    "\n",
    "    # Swap degrees according to specified probability\n",
    "    for i in range(len(tmp_degree)):\n",
    "        if random.random()<prob:\n",
    "            n = tmp_degree[i]\n",
    "            j = random.randint(0, len(degree)-1)\n",
    "            tmp_degree[i] = tmp_degree[j]\n",
    "            tmp_degree[j] = n\n",
    "    # <<< Modifying correlation <<<\n",
    "\n",
    "    return tmp_degree"
   ]
  },
  {
   "cell_type": "code",
   "execution_count": null,
   "metadata": {},
   "outputs": [],
   "source": [
    "def generate_configuration_model (degree):\n",
    "    \"\"\"Generate a single instance of the configuration model with the specified degree sequence.\n",
    "\n",
    "    Note that this function exclusively generates undirected and unweighted networks.\n",
    "\n",
    "    Parameters\n",
    "    ----------\n",
    "    degree : list\n",
    "        Desired degree sequence.\n",
    "\n",
    "    Returns\n",
    "    -------\n",
    "    nx.Graph\n",
    "        Resultant configuration model sample.\n",
    "    \"\"\"\n",
    "\n",
    "    # >>> Book-keeping >>>\n",
    "    G = nx.Graph()  # instantiate correctly sized graph\n",
    "    for n in range(0, len(degree)):\n",
    "        G.add_node(n)\n",
    "    edges = []  # edges to add\n",
    "    # <<< Book-keeping <<<\n",
    "\n",
    "    # >>> Constructing graph >>>\n",
    "    # Initialize edges\n",
    "    for i in range(0, len(degree)):\n",
    "        k = degree[i]\n",
    "        for j in range(0, k):\n",
    "            edges.append(i)\n",
    "\n",
    "    # Identifying edges with configuration model\n",
    "    for i in range(0, len(edges)):\n",
    "        j = random.randint(0, len(edges)-1)\n",
    "        tmp = edges[i]\n",
    "        edges[i] = edges[j]\n",
    "        edges[j] = tmp\n",
    "\n",
    "    # Adding edges to graph\n",
    "    for i in range(0, len(edges)-1, 2):\n",
    "        n = edges[i]\n",
    "        m = edges[i+1]\n",
    "        if G.has_edge(n, m) == False and n != m:\n",
    "            G.add_edge(n, m)\n",
    "    # <<< Constructing graph <<<\n",
    "\n",
    "    return G"
   ]
  },
  {
   "cell_type": "code",
   "execution_count": 214,
   "metadata": {},
   "outputs": [],
   "source": [
    "def generate_multiplex_configuration (N, gamma, kmin, kmax, prob, sign):\n",
    "    \"\"\"Generate a two-layer multiplex with configuration model layers.\n",
    "\n",
    "    Parameters\n",
    "    ----------\n",
    "    N : int\n",
    "        Number of nodes\n",
    "    gamma : float\n",
    "        Degree sequence exponent. Positive as a parameter.\n",
    "    kmin : float\n",
    "        Minimum degree.\n",
    "    kmax : float\n",
    "        Maximum degree.\n",
    "    prob : float\n",
    "        Proportion of edges to shuffle from one layer to the second.\n",
    "    sign : int\n",
    "        Sort of degree sequence when creating second layer. Must be -1 or 1. -1 corresponds to anti-correlated, 1 to correlated.\n",
    "\n",
    "    Returns\n",
    "    -------\n",
    "    dict\n",
    "        Mapping of layer ids to layers. Default keys 1 and 2.\n",
    "    \"\"\"\n",
    "\n",
    "    # >>> Book-keeping >>>\n",
    "    degree = []  # layer one degree sequence\n",
    "    tmp_degree = []  # layer two degree sequence\n",
    "    G = {}  # dictionary of layers\n",
    "    # <<< Book-keeping <<<\n",
    "\n",
    "    # >>> Multiplex construction >>>\n",
    "    # Sample layer one degree sequence\n",
    "    for i in range(0, N):\n",
    "        degree.append(generate_power_law (gamma, kmin, kmax))\n",
    "    degree = sorted(degree)\n",
    "\n",
    "    # Construct layer two degree sequence with specified (anti)correlation\n",
    "    for i in range (0, len(degree)):\n",
    "        if sign > 0:\n",
    "            tmp_degree.append(degree[i])\n",
    "        if sign < 0:\n",
    "            tmp_degree.append(degree[len(degree)-i-1])\n",
    "    tmp_degree = control_correlation (tmp_degree, prob)\n",
    "\n",
    "    # Build layers from degree sequences\n",
    "    G[1] = generate_configuration_model (degree)\n",
    "    G[2] = generate_configuration_model (tmp_degree)\n",
    "    # <<< Multiplex construction <<<\n",
    "\n",
    "    return G"
   ]
  },
  {
   "attachments": {},
   "cell_type": "markdown",
   "metadata": {},
   "source": [
    "# Experiment"
   ]
  },
  {
   "cell_type": "code",
   "execution_count": 215,
   "metadata": {},
   "outputs": [],
   "source": [
    "def perform_analysis_configuration_model_fully_aware_degree (N, kmin, kmax, gamma, sign, step):\n",
    "    \"\"\"Create figure 1\n",
    "\n",
    "    Parameters\n",
    "    ----------\n",
    "     N : int\n",
    "        Number of nodes\n",
    "    kmin : float\n",
    "        Minimum degree.\n",
    "    kmax : float\n",
    "        Maximum degree.\n",
    "    gamma : float\n",
    "        Degree sequence exponent. Positive as a parameter.\n",
    "    sign : int\n",
    "        Sort of degree sequence when creating second layer. Must be -1 or 1. -1 corresponds to anti-correlated, 1 to correlated.\n",
    "    step : float\n",
    "        Step size for sweeping partial observation axis.\n",
    "    \"\"\"\n",
    "\n",
    "    x, y, z = [], [], []\n",
    "\n",
    "    prob_values = np.linspace(0.0, 1.0, num=10)\n",
    "\n",
    "    # Sweep partial observation axis\n",
    "    for i in range(len(prob_values)):\n",
    "        prob = prob_values[i]\n",
    "\n",
    "        # Generate duplex to reconstruct\n",
    "        G = generate_multiplex_configuration (N, gamma, kmin, kmax, prob, sign)\n",
    "        G1, G2 = duplex_network (G, 1, 2)\n",
    "\n",
    "        # Set up experiment\n",
    "        Etest, degree1, degree2 = create_test_set_fully_aware_degree (G1, G2)\n",
    "\n",
    "        # Run reconstruction algorithm\n",
    "        classification, scores, ground_truth = classifier_fully_aware_degree (Etest, degree1, degree2)\n",
    "\n",
    "\n",
    "        # Track performance\n",
    "        acc = metrics.accuracy_score(ground_truth, classification)\n",
    "        auc = metrics.roc_auc_score(ground_truth, scores)\n",
    "        x.append(prob)\n",
    "        y.append(acc)\n",
    "        z.append(auc)\n",
    "\n",
    "        prob += step\n",
    "\n",
    "    results = [x, y, z]\n",
    "    return results"
   ]
  },
  {
   "cell_type": "markdown",
   "metadata": {},
   "source": [
    "## Figure 1a"
   ]
  },
  {
   "cell_type": "code",
   "execution_count": 216,
   "metadata": {},
   "outputs": [],
   "source": [
    "N = 100000\n",
    "kmin = 3\n",
    "sign = 1\n",
    "step = 0.1\n",
    "\n",
    "results = {}"
   ]
  },
  {
   "cell_type": "code",
   "execution_count": 217,
   "metadata": {},
   "outputs": [
    {
     "name": "stdout",
     "output_type": "stream",
     "text": [
      "1749\n",
      "1263\n",
      "814\n",
      "569\n",
      "443\n",
      "286\n",
      "234\n",
      "147\n",
      "110\n",
      "84\n"
     ]
    }
   ],
   "source": [
    "kmax = int(np.sqrt(N))\n",
    "gamma = 2.1\n",
    "\n",
    "results[gamma] = perform_analysis_configuration_model_fully_aware_degree (N, kmin, kmax, gamma, sign, step)"
   ]
  },
  {
   "cell_type": "code",
   "execution_count": 218,
   "metadata": {},
   "outputs": [
    {
     "name": "stdout",
     "output_type": "stream",
     "text": [
      "535\n",
      "322\n",
      "230\n",
      "193\n",
      "114\n",
      "85\n",
      "69\n",
      "53\n",
      "39\n",
      "27\n"
     ]
    }
   ],
   "source": [
    "kmax = int(np.sqrt(N))\n",
    "gamma = 2.5\n",
    "\n",
    "results[gamma]  = perform_analysis_configuration_model_fully_aware_degree (N, kmin, kmax, gamma, sign, step)"
   ]
  },
  {
   "cell_type": "code",
   "execution_count": 219,
   "metadata": {},
   "outputs": [
    {
     "name": "stdout",
     "output_type": "stream",
     "text": [
      "127\n",
      "94\n",
      "77\n",
      "62\n",
      "40\n",
      "36\n",
      "33\n",
      "27\n",
      "19\n",
      "18\n"
     ]
    }
   ],
   "source": [
    "kmax = int(np.sqrt(N))\n",
    "gamma = 2.9\n",
    "\n",
    "results[gamma] = perform_analysis_configuration_model_fully_aware_degree (N, kmin, kmax, gamma, sign, step)"
   ]
  },
  {
   "cell_type": "code",
   "execution_count": 220,
   "metadata": {},
   "outputs": [
    {
     "name": "stdout",
     "output_type": "stream",
     "text": [
      "32\n",
      "31\n",
      "17\n",
      "14\n",
      "15\n",
      "17\n",
      "7\n",
      "12\n",
      "14\n",
      "9\n"
     ]
    }
   ],
   "source": [
    "gamma = 3.5\n",
    "kmax = int(np.power(N, 1.0/(gamma-1.0)))\n",
    "\n",
    "results[gamma] = perform_analysis_configuration_model_fully_aware_degree (N, kmin, kmax, gamma, sign, step)"
   ]
  },
  {
   "cell_type": "code",
   "execution_count": 222,
   "metadata": {},
   "outputs": [],
   "source": [
    "with open('figure1a_data.pk', 'wb') as handle:\n",
    "    pickle.dump(results, handle, protocol=pickle.HIGHEST_PROTOCOL)"
   ]
  },
  {
   "cell_type": "code",
   "execution_count": 223,
   "metadata": {},
   "outputs": [],
   "source": [
    "with open('figure1a_data.pk', 'rb') as handle:\n",
    "    results = pickle.load(handle)"
   ]
  },
  {
   "cell_type": "code",
   "execution_count": 224,
   "metadata": {},
   "outputs": [
    {
     "data": {
      "text/plain": [
       "(0.0, 1)"
      ]
     },
     "execution_count": 224,
     "metadata": {},
     "output_type": "execute_result"
    },
    {
     "data": {
      "image/png": "[encoded data removed]",
      "text/plain": [
       "<Figure size 504x360 with 1 Axes>"
      ]
     },
     "metadata": {
      "needs_background": "light"
     },
     "output_type": "display_data"
    }
   ],
   "source": [
    "fig = plt.figure()\n",
    "fig.set_size_inches(7,5)\n",
    "plt.rc('text', usetex=False)\n",
    "plt.rc('font', size=20, **{'family':'DejaVu Sans','sans-serif':['Helvetica']})\n",
    "plt.rcParams['xtick.major.pad'] = 8\n",
    "plt.rcParams['ytick.major.pad'] = 8\n",
    "\n",
    "gamma = 2.1\n",
    "plt.plot(results[gamma][0], results[gamma][2], marker='s', linewidth=2, color = 'black', label='$\\gamma = 2.1$')\n",
    "\n",
    "gamma = 2.5\n",
    "plt.plot(results[gamma][0], results[gamma][2], marker='o', linewidth=2, color = 'red', label='$\\gamma = 2.5$')\n",
    "\n",
    "\n",
    "gamma = 2.9\n",
    "plt.plot(results[gamma][0], results[gamma][2], marker='v', linewidth=2, color = 'blue', label='$\\gamma = 2.9$')\n",
    "\n",
    "\n",
    "gamma = 3.5\n",
    "plt.plot(results[gamma][0], results[gamma][2], marker='d', linewidth=2, color = 'green', label='$\\gamma = 3.5$')\n",
    "\n",
    "\n",
    "\n",
    "\n",
    "plt.legend(loc='lower right')\n",
    "plt.xlabel('Relabiling probability')\n",
    "plt.ylabel('ROC AUC')\n",
    "plt.ylim(.0,1)\n",
    "plt.xlim(.0,1)"
   ]
  },
  {
   "cell_type": "markdown",
   "metadata": {},
   "source": [
    "## Figure 1b"
   ]
  },
  {
   "cell_type": "code",
   "execution_count": 225,
   "metadata": {},
   "outputs": [],
   "source": [
    "N = 100000\n",
    "kmin = 3#print ('# option = ', option)\n",
    "sign = -1\n",
    "step = 0.1\n",
    "\n",
    "results = {}"
   ]
  },
  {
   "cell_type": "code",
   "execution_count": 226,
   "metadata": {},
   "outputs": [
    {
     "name": "stdout",
     "output_type": "stream",
     "text": [
      "10\n",
      "25\n",
      "32\n",
      "37\n",
      "46\n",
      "51\n",
      "72\n",
      "69\n",
      "75\n",
      "72\n"
     ]
    }
   ],
   "source": [
    "kmax = int(np.sqrt(N))\n",
    "gamma = 2.1\n",
    "\n",
    "results[gamma] = perform_analysis_configuration_model_fully_aware_degree (N, kmin, kmax, gamma, sign, step)"
   ]
  },
  {
   "cell_type": "code",
   "execution_count": 227,
   "metadata": {},
   "outputs": [
    {
     "name": "stdout",
     "output_type": "stream",
     "text": [
      "15\n",
      "17\n",
      "14\n",
      "24\n",
      "22\n",
      "35\n",
      "37\n",
      "29\n",
      "32\n",
      "36\n"
     ]
    }
   ],
   "source": [
    "kmax = int(np.sqrt(N))\n",
    "gamma = 2.5\n",
    "\n",
    "results[gamma]  = perform_analysis_configuration_model_fully_aware_degree (N, kmin, kmax, gamma, sign, step)"
   ]
  },
  {
   "cell_type": "code",
   "execution_count": 228,
   "metadata": {},
   "outputs": [
    {
     "name": "stdout",
     "output_type": "stream",
     "text": [
      "12\n",
      "9\n",
      "8\n",
      "11\n",
      "9\n",
      "15\n",
      "17\n",
      "13\n",
      "17\n",
      "19\n"
     ]
    }
   ],
   "source": [
    "kmax = int(np.sqrt(N))\n",
    "gamma = 2.9\n",
    "\n",
    "results[gamma] = perform_analysis_configuration_model_fully_aware_degree (N, kmin, kmax, gamma, sign, step)"
   ]
  },
  {
   "cell_type": "code",
   "execution_count": 229,
   "metadata": {},
   "outputs": [
    {
     "name": "stdout",
     "output_type": "stream",
     "text": [
      "10\n",
      "12\n",
      "8\n",
      "4\n",
      "7\n",
      "7\n",
      "10\n",
      "5\n",
      "6\n",
      "10\n"
     ]
    }
   ],
   "source": [
    "gamma = 3.5\n",
    "kmax = int(np.power(N, 1.0/(gamma-1.0)))\n",
    "\n",
    "results[gamma] = perform_analysis_configuration_model_fully_aware_degree (N, kmin, kmax, gamma, sign, step)"
   ]
  },
  {
   "cell_type": "code",
   "execution_count": 230,
   "metadata": {},
   "outputs": [],
   "source": [
    "with open('figure1b_data.pk', 'wb') as handle:\n",
    "    pickle.dump(results, handle, protocol=pickle.HIGHEST_PROTOCOL)"
   ]
  },
  {
   "cell_type": "code",
   "execution_count": 20,
   "metadata": {},
   "outputs": [],
   "source": [
    "with open('figure1b_data.pk', 'rb') as handle:\n",
    "    results = pickle.load(handle)"
   ]
  },
  {
   "cell_type": "code",
   "execution_count": 21,
   "metadata": {},
   "outputs": [
    {
     "data": {
      "text/plain": [
       "(0.0, 1)"
      ]
     },
     "execution_count": 21,
     "metadata": {},
     "output_type": "execute_result"
    },
    {
     "data": {
      "image/png": "[encoded data removed]",
      "text/plain": [
       "<Figure size 504x360 with 1 Axes>"
      ]
     },
     "metadata": {
      "needs_background": "light"
     },
     "output_type": "display_data"
    }
   ],
   "source": [
    "fig = plt.figure()\n",
    "fig.set_size_inches(7,5)\n",
    "plt.rc('text', usetex=False)\n",
    "plt.rc('font', size=20, **{'family':'DejaVu Sans','sans-serif':['Helvetica']})\n",
    "plt.rcParams['xtick.major.pad'] = 8\n",
    "plt.rcParams['ytick.major.pad'] = 8\n",
    "\n",
    "gamma = 2.1\n",
    "plt.plot(results[gamma][0], results[gamma][2], marker='s', linewidth=2, color = 'black', label='$\\gamma = 2.1$')\n",
    "\n",
    "gamma = 2.5\n",
    "plt.plot(results[gamma][0], results[gamma][2], marker='o', linewidth=2, color = 'red', label='$\\gamma = 2.5$')\n",
    "\n",
    "\n",
    "gamma = 2.9\n",
    "plt.plot(results[gamma][0], results[gamma][2], marker='v', linewidth=2, color = 'blue', label='$\\gamma = 2.9$')\n",
    "\n",
    "\n",
    "gamma = 3.5\n",
    "plt.plot(results[gamma][0], results[gamma][2], marker='d', linewidth=2, color = 'green', label='$\\gamma = 3.5$')\n",
    "\n",
    "\n",
    "\n",
    "\n",
    "plt.legend(loc='lower right')\n",
    "plt.xlabel('Relabiling probability')\n",
    "plt.ylabel('ROC AUC')\n",
    "plt.ylim(.0,1)\n",
    "plt.xlim(.0,1)"
   ]
  },
  {
   "cell_type": "markdown",
   "metadata": {},
   "source": [
    "# LFR Benchmarks"
   ]
  },
  {
   "cell_type": "code",
   "execution_count": 62,
   "metadata": {},
   "outputs": [],
   "source": [
    "def LFR(n,t1,t2,mu,avg_k,max_k,min_community):\n",
    "    #function to generate LFR network as a networkx object and obtain community assignments\n",
    "\n",
    "    # >>> Book-keeping >>>\n",
    "    # Cast parameters as strings\n",
    "    N = str(n)\n",
    "    Mu = str(mu)\n",
    "    T1 = str(t1)\n",
    "    T2 = str(t2)\n",
    "    maxk = str(max_k)\n",
    "    k = str(avg_k)\n",
    "    min_community = str(min_community)\n",
    "\n",
    "    # Concatenate LFR binary shell command as a string\n",
    "    s='./benchmark -N '+N+' -mu '+Mu+ ' -maxk ' +maxk  + ' -k '+k  +' -t1 ' +T1+' -t2 ' +T2 # +' -minc ' +min_community\n",
    "    # <<< Book-keeping <<<\n",
    "\n",
    "\n",
    "    # >>> LFR generation >>>\n",
    "    # Call LFR binary and generate networks\n",
    "    os.system(s)\n",
    "\n",
    "    # Format resultant network as networkx Graph\n",
    "    x=np.loadtxt('network.dat')\n",
    "    edges=[(int(x[i][0])-1,int(x[i][1])-1) for i in range(len(x))]\n",
    "    g=nx.Graph(edges)\n",
    "\n",
    "    # Format resultant node partition as dict\n",
    "    x=np.loadtxt('community.dat')\n",
    "    coms={int(x[i][0])-1:int(x[i][1]) for i in range(len(x))}\n",
    "    # <<< LFR generation <<<\n",
    "\n",
    "    return g, coms"
   ]
  },
  {
   "cell_type": "code",
   "execution_count": null,
   "metadata": {},
   "outputs": [],
   "source": [
    "def lfr_multiplex (N, tau1, tau2, mu, average_degree, max_degree, min_community, prob_relabel):\n",
    "\n",
    "    # >>> Book-keeping >>>\n",
    "    groups = {}\n",
    "    # <<< Book-keeping <<<\n",
    "\n",
    "    # >>> Experimental data sampling >>>\n",
    "    # Generate LFR network (one layer)\n",
    "    H, comm = LFR(n=N, t1=tau1, t2=tau2, mu=mu, avg_k=average_degree, max_k = max_degree, min_community=min_community)\n",
    "\n",
    "    # Create list of communities\n",
    "    for n in comm:\n",
    "        c = comm[n]\n",
    "        if c not in groups:\n",
    "            groups[c] = []\n",
    "        groups[c].append(n)\n",
    "\n",
    "\n",
    "    # Create node -> community mapping\n",
    "    sigma1 = {}\n",
    "    for n in comm:\n",
    "        sigma1[n] = comm[n]\n",
    "\n",
    "\n",
    "    # Shuffle community labels\n",
    "    new_labels = {}  # old_community_label -> new_community_label\n",
    "    for C in groups:\n",
    "        tmp = groups[C].copy()\n",
    "        random.shuffle(tmp)\n",
    "        for i in range(0, len(groups[C])):\n",
    "            n = groups[C][i]\n",
    "            m = tmp[i]\n",
    "            new_labels[n] = m\n",
    "\n",
    "    # Apply community label shuffling to node -> community mapping\n",
    "    tmp_sigma2 = {}\n",
    "    for n in sigma1:\n",
    "        m = new_labels[n]\n",
    "        tmp_sigma2[m] = sigma1[n]\n",
    "\n",
    "    # Form duplex of LFR layers\n",
    "    G = {}\n",
    "    G[1] = H.copy()\n",
    "    G[2] = nx.Graph()\n",
    "\n",
    "    ## Ensure same node set in both layers\n",
    "    for n in G[1]:\n",
    "        G[2].add_node(n)\n",
    "\n",
    "    ## Add edges to second layer _with label shuffling_\n",
    "    for e in G[1].edges():\n",
    "        n = new_labels[e[0]]\n",
    "        m = new_labels[e[1]]\n",
    "        G[2].add_edge(n, m)\n",
    "\n",
    "    # Beak community correlation between layers\n",
    "    list_nodes = list(G[2].nodes())\n",
    "    new_labels = {}\n",
    "    H = G[2].copy()\n",
    "    for n in G[2]:\n",
    "        new_labels[n] = n\n",
    "    for n in new_labels:\n",
    "        if random.random()<prob_relabel:\n",
    "            m = random.choice(list_nodes)\n",
    "            tmp = new_labels[n]\n",
    "            new_labels[n] = new_labels[m]\n",
    "            new_labels[m] = tmp\n",
    "\n",
    "    G[2] = nx.Graph()\n",
    "    for n in H:\n",
    "        m = new_labels[n]\n",
    "        G[2].add_node(m)\n",
    "    for e in H.edges():\n",
    "        n = new_labels[e[0]]\n",
    "        m = new_labels[e[1]]\n",
    "        G[2].add_edge(n, m)\n",
    "\n",
    "    sigma2 = {}\n",
    "    for n in tmp_sigma2:\n",
    "        m = new_labels[n]\n",
    "        sigma2[m] = tmp_sigma2[n]\n",
    "    # <<< Experimental data sampling <<<\n",
    "\n",
    "    return G, sigma1, sigma2, mu\n"
   ]
  },
  {
   "cell_type": "code",
   "execution_count": null,
   "metadata": {},
   "outputs": [],
   "source": [
    "def classifier_fully_aware_community (Etest, sigma1, sigma2, mu):\n",
    "\n",
    "    # >>> Book-keeping >>>\n",
    "    classification = []  # list of classifications for each edge\n",
    "    scores = []  # normalized probability of belonging to \"first\" layer\n",
    "    ground_truth = []\n",
    "    # <<< Book-keeping <<<\n",
    "\n",
    "    # >>> Reconstruct network >>>\n",
    "    for e in Etest:\n",
    "        n = e[0]  # src of edge\n",
    "        m = e[1]  # tgt of edge\n",
    "\n",
    "        # Calculate likelihood of belonging to \"first\" layer\n",
    "        s1 = 1.0\n",
    "        if sigma1[n] == sigma1[m]:\n",
    "            s1 = s1 * mu\n",
    "        else:\n",
    "            s1 = s1 * (1.0-mu)\n",
    "\n",
    "        # Calculate likelihood of belonging to \"first\" layer\n",
    "        s2 = 1.0\n",
    "        if sigma2[n] == sigma2[m]:\n",
    "            s2 = s2 * mu\n",
    "        else:\n",
    "            s2 = s2 * (1.0-mu)\n",
    "\n",
    "        # Normalize probability of reconstructing edge into \"first\" layer\n",
    "        t1 = t2 = 0.5\n",
    "        if s1 + s2 > 0.0:\n",
    "            t1 = s1 / (s1 + s2)\n",
    "            t2 = s2 / (s1 + s2)\n",
    "\n",
    "        # Declare reconstruction for given edge based on probability calculated above\n",
    "        s = random.randint(0,1)\n",
    "        if t1 > t2:\n",
    "            s = 1\n",
    "        if t2 > t1:\n",
    "            s = 0\n",
    "\n",
    "        # Track likelihoods and classifications for downstream performance analysis\n",
    "        scores.append(t1)\n",
    "        classification.append(s)\n",
    "        ground_truth.append(Etest[e])\n",
    "    # <<< Reconstruct network <<<\n",
    "\n",
    "\n",
    "    return classification, scores, ground_truth"
   ]
  },
  {
   "cell_type": "code",
   "execution_count": 39,
   "metadata": {},
   "outputs": [],
   "source": [
    "def create_test_set_fully_aware_community (G1, G2):\n",
    "\n",
    "    # >>> Book-keeping >>>\n",
    "    Etest = {}  # edge -> true layer label mapping\n",
    "    # <<< Book-keeping <<<\n",
    "\n",
    "    # >>> Create test set >>>\n",
    "    # Label \"G\" edges\n",
    "    for e in G1.edges():\n",
    "        Etest[e] = 1\n",
    "\n",
    "    # Label \"H\" edges\n",
    "    for e in G2.edges():\n",
    "        Etest[e] = 0\n",
    "\n",
    "    # Retrieve degree sequences\n",
    "    degree1 = {}\n",
    "    degree2 = {}\n",
    "    for n in G1:\n",
    "        degree1[n] = G1.degree(n)\n",
    "        degree2[n] = G2.degree(n)\n",
    "    # <<< Create test set <<<\n",
    "\n",
    "    return Etest, degree1, degree2\n"
   ]
  },
  {
   "cell_type": "code",
   "execution_count": 47,
   "metadata": {},
   "outputs": [],
   "source": [
    "def perform_analysis_lfr_model_fully_aware_community (N, tau1, tau2, mu, average_degree, max_degree, min_community, step):\n",
    "\n",
    "    # >>> Book-keeping >>>\n",
    "    x = []  # list of relabeling probabilities (control parameter)\n",
    "    y = []  # list of reconstruction accuracies (performance measurement)\n",
    "    z = []  # list of reconstruction accuracies (performance measurement)\n",
    "\n",
    "    num = int(1.0/step)  # number of simulations\n",
    "    prob_values = np.linspace(0.0, 1.0, num=num)  # fraction of relabeling probabilities over `num` points\n",
    "    # <<< Book-keeping <<<\n",
    "\n",
    "    # >>> Experiment >>>\n",
    "    # Sweep over relabeling probabilities\n",
    "    for i in range(len(prob_values)):\n",
    "        prob = prob_values[i]\n",
    "\n",
    "        # Generate LFR duplex\n",
    "        G, sigma1, sigma2, mu_tmp = lfr_multiplex (N, tau1, tau2, mu, average_degree, max_degree, min_community, prob)\n",
    "        G1, G2 = duplex_network (G, 1, 2)\n",
    "        print (len(G[1].edges()), len(G[1].edges()))\n",
    "        print (len(G1.edges()), len(G2.edges()))\n",
    "\n",
    "        # Set up reconstruction experiment\n",
    "        Etest, degree1, degree2 = create_test_set_fully_aware_community (G1, G2)\n",
    "\n",
    "        # Apply reconstruction method\n",
    "        classification, scores, ground_truth = classifier_fully_aware_community (Etest, sigma1, sigma2, 1.0-mu)\n",
    "\n",
    "        # Measure performance\n",
    "        acc = metrics.accuracy_score(ground_truth, classification)\n",
    "        auc = metrics.roc_auc_score(ground_truth, scores)\n",
    "\n",
    "        # Track performance record\n",
    "        x.append(prob)\n",
    "        y.append(acc)\n",
    "        z.append(auc)\n",
    "\n",
    "        prob += step\n",
    "\n",
    "    results = [x, y, z]\n",
    "    # <<< Experiment <<<\n",
    "\n",
    "    return results\n"
   ]
  },
  {
   "attachments": {},
   "cell_type": "markdown",
   "metadata": {},
   "source": [
    "## Figure 1c"
   ]
  },
  {
   "cell_type": "code",
   "execution_count": 190,
   "metadata": {},
   "outputs": [],
   "source": [
    "N = 10000\n",
    "\n",
    "tau1 = 2.1\n",
    "tau2 = 1.0\n",
    "average_degree = 20.0\n",
    "max_degree = int(np.sqrt(N))\n",
    "#min_community = int(float(N)/10.0)\n",
    "min_community = 1\n",
    "step = 0.1\n",
    "\n",
    "\n",
    "results_lfr = {}"
   ]
  },
  {
   "cell_type": "code",
   "execution_count": 191,
   "metadata": {},
   "outputs": [
    {
     "name": "stdout",
     "output_type": "stream",
     "text": [
      "34184\n",
      "99612 99612\n",
      "65428 65428\n",
      "21062\n",
      "100807 100807\n",
      "79745 79745\n",
      "13069\n",
      "99287 99287\n",
      "86218 86218\n",
      "7400\n",
      "99904 99904\n",
      "92504 92504\n",
      "3952\n",
      "98938 98938\n",
      "94986 94986\n",
      "2447\n",
      "100669 100669\n",
      "98222 98222\n",
      "1229\n",
      "100379 100379\n",
      "99150 99150\n",
      "516\n",
      "98074 98074\n",
      "97558 97558\n",
      "242\n",
      "99642 99642\n",
      "99400 99400\n",
      "197\n",
      "99501 99501\n",
      "99304 99304\n"
     ]
    }
   ],
   "source": [
    "mu = 0.1\n",
    "\n",
    "results_lfr[mu] = perform_analysis_lfr_model_fully_aware_community (N, tau1, tau2, mu, average_degree, max_degree, min_community, step)"
   ]
  },
  {
   "cell_type": "code",
   "execution_count": 192,
   "metadata": {},
   "outputs": [
    {
     "name": "stdout",
     "output_type": "stream",
     "text": [
      "28421\n",
      "101201 101201\n",
      "72780 72780\n",
      "17022\n",
      "100019 100019\n",
      "82997 82997\n",
      "10334\n",
      "99619 99619\n",
      "89285 89285\n",
      "6193\n",
      "98953 98953\n",
      "92760 92760\n",
      "3209\n",
      "99657 99657\n",
      "96448 96448\n",
      "1933\n",
      "99365 99365\n",
      "97432 97432\n",
      "896\n",
      "100977 100977\n",
      "100081 100081\n",
      "460\n",
      "101393 101393\n",
      "100933 100933\n",
      "279\n",
      "101042 101042\n",
      "100763 100763\n",
      "202\n",
      "99729 99729\n",
      "99527 99527\n"
     ]
    }
   ],
   "source": [
    "mu = 0.2\n",
    "\n",
    "results_lfr[mu] = perform_analysis_lfr_model_fully_aware_community (N, tau1, tau2, mu, average_degree, max_degree, min_community, step)"
   ]
  },
  {
   "cell_type": "code",
   "execution_count": 193,
   "metadata": {},
   "outputs": [
    {
     "name": "stdout",
     "output_type": "stream",
     "text": [
      "21882\n",
      "99665 99665\n",
      "77783 77783\n",
      "12761\n",
      "100554 100554\n",
      "87793 87793\n",
      "8054\n",
      "100924 100924\n",
      "92870 92870\n",
      "4823\n",
      "100485 100485\n",
      "95662 95662\n",
      "2585\n",
      "100655 100655\n",
      "98070 98070\n",
      "1359\n",
      "99457 99457\n",
      "98098 98098\n",
      "739\n",
      "98799 98799\n",
      "98060 98060\n",
      "416\n",
      "100741 100741\n",
      "100325 100325\n",
      "265\n",
      "101908 101908\n",
      "101643 101643\n",
      "193\n",
      "100583 100583\n",
      "100390 100390\n"
     ]
    }
   ],
   "source": [
    "mu = 0.3\n",
    "\n",
    "results_lfr[mu] = perform_analysis_lfr_model_fully_aware_community (N, tau1, tau2, mu, average_degree, max_degree, min_community, step)"
   ]
  },
  {
   "cell_type": "code",
   "execution_count": 194,
   "metadata": {},
   "outputs": [
    {
     "name": "stdout",
     "output_type": "stream",
     "text": [
      "15478\n",
      "101074 101074\n",
      "85596 85596\n",
      "9959\n",
      "99491 99491\n",
      "89532 89532\n",
      "6224\n",
      "99048 99048\n",
      "92824 92824\n",
      "3715\n",
      "100528 100528\n",
      "96813 96813\n",
      "2340\n",
      "100506 100506\n",
      "98166 98166\n",
      "1323\n",
      "100459 100459\n",
      "99136 99136\n",
      "694\n",
      "100763 100763\n",
      "100069 100069\n",
      "384\n",
      "100203 100203\n",
      "99819 99819\n",
      "262\n",
      "100004 100004\n",
      "99742 99742\n",
      "173\n",
      "100943 100943\n",
      "100770 100770\n"
     ]
    }
   ],
   "source": [
    "mu = 0.4\n",
    "\n",
    "results_lfr[mu] = perform_analysis_lfr_model_fully_aware_community (N, tau1, tau2, mu, average_degree, max_degree, min_community, step)"
   ]
  },
  {
   "cell_type": "code",
   "execution_count": 195,
   "metadata": {},
   "outputs": [
    {
     "name": "stdout",
     "output_type": "stream",
     "text": [
      "10892\n",
      "99078 99078\n",
      "88186 88186\n",
      "7329\n",
      "100805 100805\n",
      "93476 93476\n",
      "5172\n",
      "101475 101475\n",
      "96303 96303\n",
      "2878\n",
      "99164 99164\n",
      "96286 96286\n",
      "1681\n",
      "100270 100270\n",
      "98589 98589\n",
      "818\n",
      "99492 99492\n",
      "98674 98674\n",
      "552\n",
      "99636 99636\n",
      "99084 99084\n",
      "325\n",
      "99841 99841\n",
      "99516 99516\n",
      "234\n",
      "99863 99863\n",
      "99629 99629\n",
      "196\n",
      "101126 101126\n",
      "100930 100930\n"
     ]
    }
   ],
   "source": [
    "mu = 0.5\n",
    "\n",
    "results_lfr[mu] = perform_analysis_lfr_model_fully_aware_community (N, tau1, tau2, mu, average_degree, max_degree, min_community, step)"
   ]
  },
  {
   "cell_type": "code",
   "execution_count": 196,
   "metadata": {},
   "outputs": [],
   "source": [
    "with open('figure1c_data.pk', 'wb') as handle:\n",
    "    pickle.dump(results_lfr, handle, protocol=pickle.HIGHEST_PROTOCOL)"
   ]
  },
  {
   "cell_type": "code",
   "execution_count": 197,
   "metadata": {},
   "outputs": [],
   "source": [
    "with open('figure1c_data.pk', 'rb') as handle:\n",
    "    results_lfr = pickle.load(handle)"
   ]
  },
  {
   "cell_type": "code",
   "execution_count": 198,
   "metadata": {},
   "outputs": [
    {
     "data": {
      "text/plain": [
       "(0.0, 1)"
      ]
     },
     "execution_count": 198,
     "metadata": {},
     "output_type": "execute_result"
    },
    {
     "data": {
      "image/png": "[encoded data removed]",
      "text/plain": [
       "<Figure size 504x360 with 1 Axes>"
      ]
     },
     "metadata": {
      "needs_background": "light"
     },
     "output_type": "display_data"
    }
   ],
   "source": [
    "fig = plt.figure()\n",
    "fig.set_size_inches(7,5)\n",
    "plt.rc('text', usetex=False)\n",
    "plt.rc('font', size=20, **{'family':'DejaVu Sans','sans-serif':['Helvetica']})\n",
    "plt.rcParams['xtick.major.pad'] = 8\n",
    "plt.rcParams['ytick.major.pad'] = 8\n",
    "\n",
    "mu = 0.1\n",
    "plt.plot(results_lfr[mu][0], results_lfr[mu][2], marker='s', linewidth=2, color = 'black', label='$\\mu = 0.1$')\n",
    "\n",
    "mu = 0.2\n",
    "plt.plot(results_lfr[mu][0], results_lfr[mu][2], marker='o', linewidth=2, color = 'red', label='$\\mu = 0.2$')\n",
    "\n",
    "\n",
    "mu = 0.3\n",
    "plt.plot(results_lfr[mu][0], results_lfr[mu][2], marker='v', linewidth=2, color = 'blue', label='$\\mu = 0.3$')\n",
    "\n",
    "\n",
    "mu = 0.4\n",
    "plt.plot(results_lfr[mu][0], results_lfr[mu][2], marker='d', linewidth=2, color = 'green', label='$\\mu = 0.4$')\n",
    "\n",
    "\n",
    "mu = 0.5\n",
    "plt.plot(results_lfr[mu][0], results_lfr[mu][2], marker='D', linewidth=2, color = 'orange', label='$\\mu = 0.5$')\n",
    "\n",
    "\n",
    "\n",
    "\n",
    "plt.legend(loc='lower right')\n",
    "plt.xlabel('Relabiling probability')\n",
    "plt.ylabel('ROC AUC')\n",
    "plt.ylim(.0,1)\n",
    "plt.xlim(.0,1)"
   ]
  },
  {
   "cell_type": "markdown",
   "metadata": {},
   "source": [
    "## Figure 1d"
   ]
  },
  {
   "cell_type": "code",
   "execution_count": 102,
   "metadata": {},
   "outputs": [],
   "source": [
    "def classifier_fully_aware_degree_community (Etest, degree1, degree2, sigma1, sigma2, mu):\n",
    "    # >>> Book-keeping >>>\n",
    "    classification = []  # list of classifications for each edge\n",
    "    scores = []  # normalized probability of belonging to \"first\" layer\n",
    "    ground_truth = []\n",
    "    # <<< Book-keeping <<<\n",
    "\n",
    "    # >>> Reconstruct network >>>\n",
    "    for e in Etest:\n",
    "        n = e[0]  # src of edge\n",
    "        m = e[1]  # tgt of edge\n",
    "\n",
    "        # Calculate likelihood of belonging to \"first\" layer\n",
    "        s1 = degree1[n]*degree1[m]\n",
    "        if sigma1[n] == sigma1[m]:\n",
    "            s1 = s1 * mu\n",
    "        else:\n",
    "            s1 = s1 * (1.0-mu)\n",
    "\n",
    "        # Calculate likelihood of belonging to \"first\" layer\n",
    "        s2 = degree2[n]*degree2[m]\n",
    "        if sigma2[n] == sigma2[m]:\n",
    "            s2 = s2 * mu\n",
    "        else:\n",
    "            s2 = s2 * (1.0-mu)\n",
    "\n",
    "        # Normalize probability of reconstructing edge into \"first\" layer\n",
    "        t1 = t2 = 0.5\n",
    "        if s1 + s2 > 0.0:\n",
    "            t1 = s1 / (s1 + s2)\n",
    "            t2 = s2 / (s1 + s2)\n",
    "\n",
    "        # Declare reconstruction for given edge based on probability calculated above\n",
    "        s = random.randint(0,1)\n",
    "        if t1 > t2:\n",
    "            s = 1\n",
    "        if t2 > t1:\n",
    "            s = 0\n",
    "\n",
    "        # Track likelihoods and classifications for downstream performance analysis\n",
    "        scores.append(t1)\n",
    "        classification.append(s)\n",
    "        ground_truth.append(Etest[e])\n",
    "    # <<< Reconstruct network <<<\n",
    "\n",
    "\n",
    "    return classification, scores, ground_truth"
   ]
  },
  {
   "cell_type": "code",
   "execution_count": null,
   "metadata": {},
   "outputs": [],
   "source": [
    "def create_test_set_fully_aware_degree_community (G1, G2):\n",
    "    # >>> Book-keeping >>>\n",
    "    Etest = {}  # edge -> true layer label mapping\n",
    "    # <<< Book-keeping <<<\n",
    "\n",
    "    # >>> Create test set >>>\n",
    "    # Label \"G\" edges\n",
    "    for e in G1.edges():\n",
    "        Etest[e] = 1\n",
    "\n",
    "    # Label \"H\" edges\n",
    "    for e in G2.edges():\n",
    "        Etest[e] = 0\n",
    "\n",
    "    # Retrieve degree sequences\n",
    "    degree1 = {}\n",
    "    degree2 = {}\n",
    "    for n in G1:\n",
    "        degree1[n] = G1.degree(n)\n",
    "        degree2[n] = G2.degree(n)\n",
    "    # <<< Create test set <<<\n",
    "\n",
    "    return Etest, degree1, degree2"
   ]
  },
  {
   "cell_type": "code",
   "execution_count": 103,
   "metadata": {},
   "outputs": [],
   "source": [
    "def perform_analysis_lfr_model_fully_aware_degree_community (N, tau1, tau2, mu, average_degree, max_degree, min_community, step):\n",
    "    # >>> Book-keeping >>>\n",
    "    x = []  # list of relabeling probabilities (control parameter)\n",
    "    y = []  # list of reconstruction accuracies (performance measurement)\n",
    "    z = []  # list of reconstruction accuracies (performance measurement)\n",
    "\n",
    "    num = int(1.0/step)  # number of simulations\n",
    "    prob_values = np.linspace(0.0, 1.0, num=num)  # fraction of relabeling probabilities over `num` points\n",
    "    # <<< Book-keeping <<<\n",
    "\n",
    "    # >>> Experiment >>>\n",
    "    # Sweep over relabeling probabilities\n",
    "    for i in range(len(prob_values)):\n",
    "        prob = prob_values[i]\n",
    "\n",
    "        # Generate LFR duplex\n",
    "        G, sigma1, sigma2, mu_tmp = lfr_multiplex (N, tau1, tau2, mu, average_degree, max_degree, min_community, prob)\n",
    "        G1, G2 = duplex_network (G, 1, 2)\n",
    "        print (len(G[1].edges()), len(G[1].edges()))\n",
    "        print (len(G1.edges()), len(G2.edges()))\n",
    "\n",
    "        # Set up reconstruction experiment\n",
    "        Etest, degree1, degree2 = create_test_set_fully_aware_degree_community(G1, G2)\n",
    "\n",
    "        # Apply reconstruction method\n",
    "        classification, scores, ground_truth = classifier_fully_aware_degree_community(Etest, degree1, degree2, sigma1, sigma2, 1.0-mu)\n",
    "\n",
    "        # Measure performance\n",
    "        acc = metrics.accuracy_score(ground_truth, classification)\n",
    "        auc = metrics.roc_auc_score(ground_truth, scores)\n",
    "\n",
    "        # Track performance record\n",
    "        x.append(prob)\n",
    "        y.append(acc)\n",
    "        z.append(auc)\n",
    "\n",
    "        prob += step\n",
    "\n",
    "    results = [x, y, z]\n",
    "    # <<< Experiment <<<\n",
    "\n",
    "    return results"
   ]
  },
  {
   "cell_type": "code",
   "execution_count": 199,
   "metadata": {},
   "outputs": [],
   "source": [
    "N = 10000\n",
    "\n",
    "tau1 = 2.1\n",
    "tau2 = 1.0 \n",
    "average_degree = 20.0 \n",
    "max_degree = int(np.sqrt(N)) \n",
    "#min_community = int(float(N)/10.0)\n",
    "min_community = 1\n",
    "step = 0.1\n",
    "\n",
    "\n",
    "results_lfr = {}"
   ]
  },
  {
   "cell_type": "code",
   "execution_count": 200,
   "metadata": {},
   "outputs": [
    {
     "name": "stdout",
     "output_type": "stream",
     "text": [
      "33076\n",
      "21338\n",
      "12494\n",
      "7632\n",
      "4740\n",
      "2510\n",
      "1131\n",
      "602\n",
      "272\n",
      "219\n"
     ]
    }
   ],
   "source": [
    "mu = 0.1\n",
    "\n",
    "results_lfr[mu] = perform_analysis_lfr_model_fully_aware_degree_community (N, tau1, tau2, mu, average_degree, max_degree, min_community, step)"
   ]
  },
  {
   "cell_type": "code",
   "execution_count": 201,
   "metadata": {},
   "outputs": [
    {
     "name": "stdout",
     "output_type": "stream",
     "text": [
      "26752\n",
      "18655\n",
      "9818\n",
      "6460\n",
      "3716\n",
      "1874\n",
      "960\n",
      "427\n",
      "260\n",
      "206\n"
     ]
    }
   ],
   "source": [
    "mu = 0.2\n",
    "\n",
    "results_lfr[mu] = perform_analysis_lfr_model_fully_aware_degree_community (N, tau1, tau2, mu, average_degree, max_degree, min_community, step)"
   ]
  },
  {
   "cell_type": "code",
   "execution_count": 202,
   "metadata": {},
   "outputs": [
    {
     "name": "stdout",
     "output_type": "stream",
     "text": [
      "21603\n",
      "12371\n",
      "8651\n",
      "4759\n",
      "2946\n",
      "1504\n",
      "842\n",
      "383\n",
      "274\n",
      "196\n"
     ]
    }
   ],
   "source": [
    "mu = 0.3\n",
    "\n",
    "results_lfr[mu] = perform_analysis_lfr_model_fully_aware_degree_community (N, tau1, tau2, mu, average_degree, max_degree, min_community, step)"
   ]
  },
  {
   "cell_type": "code",
   "execution_count": 203,
   "metadata": {},
   "outputs": [
    {
     "name": "stdout",
     "output_type": "stream",
     "text": [
      "16958\n",
      "10135\n",
      "6858\n",
      "4027\n",
      "2235\n",
      "1161\n",
      "732\n",
      "340\n",
      "230\n",
      "211\n"
     ]
    }
   ],
   "source": [
    "mu = 0.4\n",
    "\n",
    "results_lfr[mu] = perform_analysis_lfr_model_fully_aware_degree_community (N, tau1, tau2, mu, average_degree, max_degree, min_community, step)"
   ]
  },
  {
   "cell_type": "code",
   "execution_count": 204,
   "metadata": {},
   "outputs": [
    {
     "name": "stdout",
     "output_type": "stream",
     "text": [
      "11832\n",
      "7680\n",
      "4615\n",
      "2730\n",
      "1728\n",
      "967\n",
      "617\n",
      "307\n",
      "238\n",
      "184\n"
     ]
    }
   ],
   "source": [
    "mu = 0.5\n",
    "\n",
    "results_lfr[mu] = perform_analysis_lfr_model_fully_aware_degree_community (N, tau1, tau2, mu, average_degree, max_degree, min_community, step)"
   ]
  },
  {
   "cell_type": "code",
   "execution_count": 205,
   "metadata": {},
   "outputs": [],
   "source": [
    "with open('figure1d_data.pk', 'wb') as handle:\n",
    "    pickle.dump(results_lfr, handle, protocol=pickle.HIGHEST_PROTOCOL)"
   ]
  },
  {
   "cell_type": "code",
   "execution_count": 206,
   "metadata": {},
   "outputs": [],
   "source": [
    "with open('figure1d_data.pk', 'rb') as handle:\n",
    "    results_lfr = pickle.load(handle)"
   ]
  },
  {
   "cell_type": "code",
   "execution_count": 207,
   "metadata": {},
   "outputs": [
    {
     "data": {
      "text/plain": [
       "(0.0, 1)"
      ]
     },
     "execution_count": 207,
     "metadata": {},
     "output_type": "execute_result"
    },
    {
     "data": {
      "image/png": "[encoded data removed]",
      "text/plain": [
       "<Figure size 504x360 with 1 Axes>"
      ]
     },
     "metadata": {
      "needs_background": "light"
     },
     "output_type": "display_data"
    }
   ],
   "source": [
    "fig = plt.figure()\n",
    "fig.set_size_inches(7,5)\n",
    "plt.rc('text', usetex=False)\n",
    "plt.rc('font', size=20, **{'family':'DejaVu Sans','sans-serif':['Helvetica']})\n",
    "plt.rcParams['xtick.major.pad'] = 8\n",
    "plt.rcParams['ytick.major.pad'] = 8\n",
    "\n",
    "mu = 0.1\n",
    "plt.plot(results_lfr[mu][0], results_lfr[mu][2], marker='s', linewidth=2, color = 'black', label='$\\mu = 0.1$')\n",
    "\n",
    "mu = 0.2\n",
    "plt.plot(results_lfr[mu][0], results_lfr[mu][2], marker='o', linewidth=2, color = 'red', label='$\\mu = 0.2$')\n",
    "\n",
    "\n",
    "mu = 0.3\n",
    "plt.plot(results_lfr[mu][0], results_lfr[mu][2], marker='v', linewidth=2, color = 'blue', label='$\\mu = 0.3$')\n",
    "\n",
    "\n",
    "mu = 0.4\n",
    "plt.plot(results_lfr[mu][0], results_lfr[mu][2], marker='d', linewidth=2, color = 'green', label='$\\mu = 0.4$')\n",
    "\n",
    "\n",
    "mu = 0.5\n",
    "plt.plot(results_lfr[mu][0], results_lfr[mu][2], marker='D', linewidth=2, color = 'orange', label='$\\mu = 0.5$')\n",
    "\n",
    "\n",
    "\n",
    "\n",
    "plt.legend(loc='lower right')\n",
    "plt.xlabel('Relabiling probability')\n",
    "plt.ylabel('ROC AUC')\n",
    "plt.ylim(.0,1)\n",
    "plt.xlim(.0,1)"
   ]
  }
 ],
 "metadata": {
  "kernelspec": {
   "display_name": "Python 3",
   "language": "python",
   "name": "python3"
  },
  "language_info": {
   "codemirror_mode": {
    "name": "ipython",
    "version": 3
   },
   "file_extension": ".py",
   "mimetype": "text/x-python",
   "name": "python",
   "nbconvert_exporter": "python",
   "pygments_lexer": "ipython3",
   "version": "3.8.10"
  }
 },
 "nbformat": 4,
 "nbformat_minor": 4
}
